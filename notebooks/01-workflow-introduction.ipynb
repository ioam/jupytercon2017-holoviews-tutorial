{
 "cells": [
  {
   "cell_type": "markdown",
   "metadata": {},
   "source": [
    "# 1. Workflow for building and deploying interactive dashboards"
   ]
  },
  {
   "cell_type": "markdown",
   "metadata": {},
   "source": [
    "**Let's say you want to make it easy to explore some dataset. That is, you want to:** \n",
    "\n",
    "* Make a visualization of the data\n",
    "* Maybe add some custom widgets to see the effects of some variables\n",
    "* Then deploy the result as a web app.\n",
    "\n",
    "**You can definitely do that in Python, but you would expect to:**\n",
    "* Spend days of effort to get some initial prototype working in a Jupyter notebook\n",
    "* Work hard to tame the resulting opaque mishmash of domain-specific, widget, and plotting code\n",
    "* Start over nearly from scratch whenever you need to:\n",
    "    - Deploy in a standalone server\n",
    "    - Visualize different aspects of your data\n",
    "    - Scale up to larger (>100K) datasets"
   ]
  },
  {
   "cell_type": "markdown",
   "metadata": {},
   "source": [
    "# Step-by-step data-science workflow\n",
    "\n",
    "Here we'll show a simple, flexible, powerful, step-by-step workflow, explaining which open-source tools solve each of the problems involved:\n",
    "\n",
    "-  Step 1: Get some data\n",
    "-  Step 2: Prototype a plot in a notebook\n",
    "-  Step 3: Define your domain model\n",
    "-  Step 4: Get a widget-based UI for free\n",
    "-  Step 5: Link your domain model to your visualization\n",
    "-  Step 6: Widgets now control your interactive plots\n",
    "-  Step 7: Deploy your dashboard"
   ]
  },
  {
   "cell_type": "code",
   "execution_count": null,
   "metadata": {},
   "outputs": [],
   "source": [
    "import holoviews as hv\n",
    "import geoviews as gv\n",
    "import param, paramnb, parambokeh\n",
    "import dask.dataframe as dd\n",
    "\n",
    "from colorcet import cm\n",
    "from holoviews.operation.datashader import datashade\n",
    "from holoviews.operation import decimate\n",
    "from holoviews.streams import RangeXY, PlotSize"
   ]
  },
  {
   "cell_type": "markdown",
   "metadata": {},
   "source": [
    "## Step 1: Get some data\n",
    "\n",
    "* Here we'll use a subset of the often-studied NYC Taxi dataset\n",
    "* About 12 million points of GPS locations from taxis\n",
    "* Stored in the efficient Parquet format for easy access\n",
    "* Loaded into a Dask dataframe for multi-core<br>(and if needed, out-of-core or distributed) computation"
   ]
  },
  {
   "cell_type": "code",
   "execution_count": null,
   "metadata": {},
   "outputs": [],
   "source": [
    "%time df = dd.read_parquet('../data/nyc_taxi_hours.parq/').persist()\n",
    "print(len(df))\n",
    "df.head(2)"
   ]
  },
  {
   "cell_type": "markdown",
   "metadata": {},
   "source": [
    "## Step 2: Prototype a plot in a notebook\n",
    "\n",
    "* A text-based representation isn't very useful for big datasets like this, so we need to build a plot\n",
    "* But we don't want to start a software project, so we use HoloViews:\n",
    "    - Simple, declarative way to annotate your data for visualization\n",
    "    - Large library of Elements with associated visual representation\n",
    "    - Elements combine (lay out or overlay) easily\n",
    "* And we'll want live interactivity, so we'll use a Bokeh plotting extension\n",
    "* Result:"
   ]
  },
  {
   "cell_type": "code",
   "execution_count": null,
   "metadata": {},
   "outputs": [],
   "source": [
    "hv.extension('bokeh')"
   ]
  },
  {
   "cell_type": "code",
   "execution_count": null,
   "metadata": {},
   "outputs": [],
   "source": [
    "points = hv.Points(df, kdims=['pickup_x', 'pickup_y'])\n",
    "decimate(points)"
   ]
  },
  {
   "cell_type": "markdown",
   "metadata": {},
   "source": [
    "Here ``Points`` declares an object wrapping `df` and visualized as a scatterplot, and `decimate` limits the number of points that will be sent to the browser to avoid crashing it.\n",
    "\n",
    "As you can see, HoloViews makes it very simple to pop up a visualization of your data, getting *something* on screen with only a few characters of typing.  But it's not particularly pretty, so let's customize it a bit:"
   ]
  },
  {
   "cell_type": "code",
   "execution_count": null,
   "metadata": {},
   "outputs": [],
   "source": [
    "options = dict(width=700, height=600, xaxis=None, yaxis=None, bgcolor='black')\n",
    "points = points.opts(plot=options)\n",
    "decimate(points)"
   ]
  },
  {
   "cell_type": "markdown",
   "metadata": {},
   "source": [
    "That looks a bit better, but it's still decimating the data nearly beyond recognition, so let's try using Datashader to rasterize it into a fixed-size image to send to the browser:"
   ]
  },
  {
   "cell_type": "code",
   "execution_count": null,
   "metadata": {},
   "outputs": [],
   "source": [
    "taxi_trips = datashade(points, x_sampling=1, y_sampling=1, cmap=cm['fire']).opts(plot=options)\n",
    "taxi_trips"
   ]
  },
  {
   "cell_type": "markdown",
   "metadata": {},
   "source": [
    "Ok, that looks good now; there's clearly lots to explore in this dataset.  To put it in context, let's overlay that on a map:"
   ]
  },
  {
   "cell_type": "code",
   "execution_count": null,
   "metadata": {},
   "outputs": [],
   "source": [
    "taxi_trips = datashade(points, x_sampling=1, y_sampling=1, cmap=cm['fire']).opts(plot=options)\n",
    "tiles = gv.WMTS('https://server.arcgisonline.com/ArcGIS/rest/services/World_Imagery/MapServer/tile/{Z}/{Y}/{X}.jpg')\n",
    "tiles * taxi_trips"
   ]
  },
  {
   "cell_type": "markdown",
   "metadata": {},
   "source": [
    "We could add lots more visual elements (laying out additional plots left and right, overlaying annotations, etc.), but let's say that this is our basic visualization we'll want to share. To sum up what we've done so far, here are the complete 10 lines of code required to generate this geo-located interactive plot of millions of datapoints in Jupyter:"
   ]
  },
  {
   "cell_type": "markdown",
   "metadata": {},
   "source": [
    "```\n",
    "import holoviews as hv, geoviews as gv, dask.dataframe as dd\n",
    "from colorcet import cm; from holoviews.operation.datashader import datashade\n",
    "\n",
    "hv.extension('bokeh')\n",
    "df = dd.read_parquet('../data/nyc_taxi_hours.parq/').persist()\n",
    "options = dict(width=700, height=600, xaxis=None, yaxis=None, bgcolor='black')\n",
    "points = hv.Points(df, kdims=['pickup_x', 'pickup_y'])\n",
    "taxi_trips = datashade(points, x_sampling=1, y_sampling=1, cmap=cm['fire']).opts(plot=options)\n",
    "tiles = gv.WMTS('https://server.arcgisonline.com/ArcGIS/rest/services/World_Imagery/MapServer/tile/{Z}/{Y}/{X}.jpg')\n",
    "tiles * taxi_trips\n",
    "```"
   ]
  },
  {
   "cell_type": "markdown",
   "metadata": {},
   "source": [
    "## Step 3: Define your domain model\n",
    "\n",
    "Now that we've prototyped a nice plot, we could keep editing the code above to explore whatever aspects of the data we wished. However, often at this point we will want to start sharing our workflow with people who aren't familar with how to program visualizations in this way.   \n",
    "\n",
    "So the next step: figure out what we want our intended user to be able to change, and declare those variables or parameters with:\n",
    "\n",
    "  - type and range checking\n",
    "  - documentation strings\n",
    "  - default values\n",
    "  \n",
    "The Param library allows declaring Python attributes having these features (and more, such as dynamic values and inheritance), letting you set up a well-defined space for a user (or you!) to explore."
   ]
  },
  {
   "cell_type": "markdown",
   "metadata": {},
   "source": [
    "## NYC Taxi Parameters"
   ]
  },
  {
   "cell_type": "code",
   "execution_count": null,
   "metadata": {},
   "outputs": [],
   "source": [
    "class NYCTaxiExplorer(hv.streams.Stream):\n",
    "    alpha       = param.Magnitude(default=0.75, doc=\"Alpha value for the map opacity\")\n",
    "    plot        = param.ObjectSelector(default=\"pickup\", objects=[\"pickup\",\"dropoff\"])\n",
    "    colormap    = param.ObjectSelector(default=cm[\"fire\"], objects=cm.values())\n",
    "    passengers  = param.Range(default=(0, 10), bounds=(0, 10), doc=\"\"\"\n",
    "        Filter for taxi trips by number of passengers\"\"\")"
   ]
  },
  {
   "cell_type": "markdown",
   "metadata": {},
   "source": [
    "Each Parameter is a normal Python attribute, but with special checks and functions run automatically when getting or setting.\n",
    "\n",
    "Parameters capture your goals and your knowledge about your domain, declaratively."
   ]
  },
  {
   "cell_type": "markdown",
   "metadata": {},
   "source": [
    "### Class level parameters"
   ]
  },
  {
   "cell_type": "code",
   "execution_count": null,
   "metadata": {},
   "outputs": [],
   "source": [
    "NYCTaxiExplorer.alpha"
   ]
  },
  {
   "cell_type": "code",
   "execution_count": null,
   "metadata": {},
   "outputs": [],
   "source": [
    "NYCTaxiExplorer.alpha = 0.5\n",
    "NYCTaxiExplorer.alpha"
   ]
  },
  {
   "cell_type": "markdown",
   "metadata": {},
   "source": [
    "### Validation"
   ]
  },
  {
   "cell_type": "code",
   "execution_count": null,
   "metadata": {},
   "outputs": [],
   "source": [
    "try:\n",
    "   NYCTaxiExplorer.alpha = '0'\n",
    "except Exception as e:\n",
    "    print(e) "
   ]
  },
  {
   "cell_type": "markdown",
   "metadata": {},
   "source": [
    "### Instance parameters"
   ]
  },
  {
   "cell_type": "code",
   "execution_count": null,
   "metadata": {},
   "outputs": [],
   "source": [
    "explorer = NYCTaxiExplorer(alpha=0.6)\n",
    "explorer.alpha"
   ]
  },
  {
   "cell_type": "code",
   "execution_count": null,
   "metadata": {},
   "outputs": [],
   "source": [
    "NYCTaxiExplorer.alpha"
   ]
  },
  {
   "cell_type": "markdown",
   "metadata": {},
   "source": [
    "## Step 4: Get a widget-based UI for free\n",
    "\n",
    "* Parameters are purely declarative and independent of any widget toolkit, but contain all the information needed to build interactive widgets\n",
    "* ParamNB generates UIs in Jupyter from Parameters, using ipywidgets"
   ]
  },
  {
   "cell_type": "code",
   "execution_count": null,
   "metadata": {},
   "outputs": [],
   "source": [
    "paramnb.Widgets(NYCTaxiExplorer)"
   ]
  },
  {
   "cell_type": "code",
   "execution_count": null,
   "metadata": {},
   "outputs": [],
   "source": [
    "NYCTaxiExplorer.passengers"
   ]
  },
  {
   "cell_type": "markdown",
   "metadata": {},
   "source": [
    "* ipywidgets work with Jupyter Dashboards Server for deployment"
   ]
  },
  {
   "cell_type": "markdown",
   "metadata": {},
   "source": [
    "* Declaration of parameters is independent of the UI library used\n",
    "* ParamBokeh generates UIs from the same Parameters, using Bokeh widgets, either in Jupyter or in Bokeh Server"
   ]
  },
  {
   "cell_type": "code",
   "execution_count": null,
   "metadata": {},
   "outputs": [],
   "source": [
    "parambokeh.Widgets(NYCTaxiExplorer)"
   ]
  },
  {
   "cell_type": "markdown",
   "metadata": {},
   "source": [
    "## Step 5: Link your domain model to your visualization\n",
    "\n",
    "We've now defined the space that's available for exploration, and the next step is to link up the parameter space with the code that specifies the plot:"
   ]
  },
  {
   "cell_type": "code",
   "execution_count": null,
   "metadata": {},
   "outputs": [],
   "source": [
    "class NYCTaxiExplorer(hv.streams.Stream):\n",
    "    alpha       = param.Magnitude(default=0.75, doc=\"Alpha value for the map opacity\")\n",
    "    colormap    = param.ObjectSelector(default=cm[\"fire\"], objects=cm.values())\n",
    "    plot        = param.ObjectSelector(default=\"pickup\",   objects=[\"pickup\",\"dropoff\"])\n",
    "    passengers  = param.Range(default=(0, 10), bounds=(0, 10))\n",
    "\n",
    "    def make_view(self, x_range=None, y_range=None, **kwargs):\n",
    "        map_tiles = tiles.opts(style=dict(alpha=self.alpha), plot=options) \n",
    "\n",
    "        points = hv.Points(df, kdims=[self.plot+'_x', self.plot+'_y'], vdims=['passenger_count'])\n",
    "        selected = points.select(passenger_count=self.passengers)\n",
    "        taxi_trips = datashade(selected, x_sampling=1, y_sampling=1, cmap=self.colormap,\n",
    "                               dynamic=False, x_range=x_range, y_range=y_range,\n",
    "                               width=800, height=475)\n",
    "        return map_tiles * taxi_trips"
   ]
  },
  {
   "cell_type": "markdown",
   "metadata": {},
   "source": [
    "Note that the `NYCTaxiExplorer` class is entirely declarative (no widgets), and can be used \"by hand\" to provide range-checked and type-checked plotting for values from the declared parameter space:"
   ]
  },
  {
   "cell_type": "code",
   "execution_count": null,
   "metadata": {},
   "outputs": [],
   "source": [
    "explorer = NYCTaxiExplorer(alpha=0.2, plot=\"dropoff\")\n",
    "explorer.make_view()"
   ]
  },
  {
   "cell_type": "markdown",
   "metadata": {},
   "source": [
    "## Step 6: Widgets now control your interactive plots\n",
    "\n",
    "But in practice, why not pop up the widgets to make it fully interactive?"
   ]
  },
  {
   "cell_type": "code",
   "execution_count": null,
   "metadata": {},
   "outputs": [],
   "source": [
    "explorer = NYCTaxiExplorer()\n",
    "paramnb.Widgets(explorer, callback=explorer.event)\n",
    "hv.DynamicMap(explorer.make_view, streams=[explorer, RangeXY()])"
   ]
  },
  {
   "cell_type": "code",
   "execution_count": null,
   "metadata": {},
   "outputs": [],
   "source": [
    "explorer = NYCTaxiExplorer()\n",
    "parambokeh.Widgets(explorer, callback=explorer.event)\n",
    "hv.DynamicMap(explorer.make_view, streams=[explorer, RangeXY()])"
   ]
  },
  {
   "cell_type": "markdown",
   "metadata": {},
   "source": [
    "## Step 7: Deploy your dashboard\n",
    "\n",
    "Ok, now you've got something worth sharing, running inside Jupyter.  But if you want to share your work with people who don't use Python, you'll now want to run a server with this same code.\n",
    "\n",
    "* If you used **ParamBokeh**, deploy with **Bokeh Server**:\n",
    "    - Write the above code to a file ``nyc_parambokeh.py``\n",
    "    - Add ``, mode='server'`` to the ``Widgets()`` call to declare which object should be served\n",
    "    - ``bokeh serve nyc_parambokeh.py``"
   ]
  },
  {
   "cell_type": "markdown",
   "metadata": {},
   "source": [
    "* If you used **ParamNB**, deploy with **Jupyter Dashboard Server**:\n",
    "    - Use [Jupyter Dashboards Extension](https://github.com/jupyter/dashboards) to select cells from the notebook to display\n",
    "    - Use preview mode to see layout\n",
    "    - Use [Jupyter Dashboards Server](https://github.com/jupyter-incubator/dashboards_server) to deploy\n",
    "    - Note various caveats below"
   ]
  },
  {
   "cell_type": "markdown",
   "metadata": {},
   "source": [
    "# Complete dashboard code\n",
    "\n",
    "```\n",
    "import holoviews as hv, geoviews as gv, param, parambokeh, dask.dataframe as dd\n",
    "\n",
    "from colorcet import cm\n",
    "from bokeh.models import WMTSTileSource\n",
    "from holoviews.operation.datashader import datashade\n",
    "from holoviews.streams import RangeXY, PlotSize\n",
    "\n",
    "hv.extension('bokeh')\n",
    "\n",
    "df = dd.read_parquet('./data/nyc_taxi.parq/').persist()\n",
    "url='https://server.arcgisonline.com/ArcGIS/rest/services/World_Imagery/MapServer/tile/{Z}/{Y}/{X}.jpg'\n",
    "tiles = gv.WMTS(WMTSTileSource(url=url))\n",
    "tile_options = dict(width=800,height=475,xaxis=None,yaxis=None,bgcolor='black',show_grid=False)\n",
    "\n",
    "passenger_counts = (0, df.passenger_count.max().compute()+1)\n",
    "\n",
    "class NYCTaxiExplorer(hv.streams.Stream):\n",
    "    alpha      = param.Magnitude(default=0.75, doc=\"Alpha value for the map opacity\")\n",
    "    colormap   = param.ObjectSelector(default=cm[\"fire\"], objects=[cm[k] for k in cm.keys() if not '_' in k])\n",
    "    plot       = param.ObjectSelector(default=\"pickup\",   objects=[\"pickup\",\"dropoff\"])\n",
    "    passengers = param.Range(default=passenger_counts, bounds=passenger_counts)\n",
    "    output     = parambokeh.view.Plot()\n",
    "\n",
    "    def make_view(self, x_range, y_range, alpha, colormap, plot, passengers, **kwargs):\n",
    "        map_tiles = tiles(style=dict(alpha=alpha), plot=tile_options)\n",
    "        points = hv.Points(df, kdims=[plot+'_x', plot+'_y'], vdims=['passenger_count'])\n",
    "        if passengers != passenger_counts: points = points.select(passenger_count=passengers)\n",
    "        taxi_trips = datashade(points, x_sampling=1, y_sampling=1, cmap=colormap,\n",
    "                               dynamic=False, x_range=x_range, y_range=y_range)\n",
    "        return map_tiles * taxi_trips\n",
    "\n",
    "selector = NYCTaxiExplorer(name=\"NYC Taxi Trips\")\n",
    "selector.output = hv.DynamicMap(selector.make_view, streams=[selector, RangeXY(), PlotSize()])\n",
    "\n",
    "parambokeh.Widgets(selector, view_position='right', callback=selector.event, mode='server')\n",
    "```"
   ]
  },
  {
   "cell_type": "markdown",
   "metadata": {},
   "source": [
    "# Branching out\n",
    "\n",
    "The other sections in this tutorial will expand on steps in this workflow, providing more step-by-step instructions for each of the major tasks.  These techniques can create much more ambitious apps with very little additional code or effort:\n",
    "\n",
    "* Adding additional linked or separate subplots of any type; see [2 - Annotating your data](./02-introduction-to-elements.ipynb) and [4 - Exploration with containers](./04-exploration-with-containers.ipynb).\n",
    "* Declaring code that runs for clicking or selecting *within* the Bokeh plot; see [7 - Custom interactivity](./07-custom-interactivity.ipynb).\n",
    "* Using multiple sets of widgets of many different types; see [ParamNB](https://github.com/ioam/paramnb) and [ParamBokeh](https://github.com/ioam/parambokeh).\n",
    "* Using datasets too big for any one machine, with [Dask.Distributed](https://distributed.readthedocs.io)."
   ]
  },
  {
   "cell_type": "markdown",
   "metadata": {},
   "source": [
    "# Future work\n",
    "\n",
    "* Jupyter Dashboards Server not currently maintained; requires older ipywidgets version\n",
    "* Bokeh Server is mature and well supported, but does not currently support drag-and-drop layout like Jupyter Dashboards does\n",
    "* ParamBokeh and ParamNB still need some polishing and work to make them ready for widespread use\n",
    "* E.g. ParamNB and ParamBokeh should provide more flexible widget layouts"
   ]
  }
 ],
 "metadata": {
  "language_info": {
   "name": "python",
   "pygments_lexer": "ipython3"
  }
 },
 "nbformat": 4,
 "nbformat_minor": 2
}
