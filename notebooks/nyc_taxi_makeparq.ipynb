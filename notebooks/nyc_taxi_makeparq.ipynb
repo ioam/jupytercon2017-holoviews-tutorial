{
 "cells": [
  {
   "cell_type": "markdown",
   "metadata": {},
   "source": [
    "## Internal-use notebook for generating a .parq file from a .csv"
   ]
  },
  {
   "cell_type": "code",
   "execution_count": null,
   "metadata": {},
   "outputs": [],
   "source": [
    "import pandas as pd\n",
    "import holoviews as hv\n",
    "import dask.dataframe as dd\n",
    "import datashader as ds\n",
    "import geoviews as gv\n",
    "import numpy as np\n",
    "\n",
    "from holoviews.operation.datashader import datashade, aggregate\n",
    "hv.extension('bokeh')"
   ]
  },
  {
   "cell_type": "code",
   "execution_count": null,
   "metadata": {},
   "outputs": [],
   "source": [
    "ddf = dd.read_csv('../data/nyc_taxi.csv', parse_dates=['tpep_dropoff_datetime','tpep_pickup_datetime'])\n",
    "ddf['dropoff_hour'] = ddf.tpep_dropoff_datetime.dt.hour\n",
    "ddf['pickup_hour']  = ddf.tpep_pickup_datetime.dt.hour\n",
    "\n",
    "print('%s Rows' % len(ddf))\n",
    "print('Columns:', list(ddf.columns))"
   ]
  },
  {
   "cell_type": "markdown",
   "metadata": {},
   "source": [
    "Could keep the full datetimes, but currently only keeps the hours."
   ]
  },
  {
   "cell_type": "code",
   "execution_count": null,
   "metadata": {},
   "outputs": [],
   "source": [
    "float_cols = ['pickup_x', 'pickup_y', 'dropoff_x', 'dropoff_y', 'trip_distance', 'fare_amount', 'tip_amount']\n",
    "int_cols = ['dropoff_hour','pickup_hour', 'passenger_count']\n",
    "\n",
    "for col in float_cols:\n",
    "    ddf[col] = ddf[col].astype(np.float32)\n",
    "\n",
    "for col in int_cols:\n",
    "    ddf[col] = ddf[col].astype(np.int8)\n",
    "\n",
    "df = ddf[float_cols+int_cols]\n",
    "    \n",
    "print(df.tail())\n",
    "print(df.dtypes)\n",
    "\n",
    "dd.to_parquet(\"../data/nyc_taxi_hours.parq\", df, compression=\"SNAPPY\", has_nulls=False, write_index=False)"
   ]
  }
 ],
 "metadata": {
  "kernelspec": {
   "display_name": "Python 3",
   "language": "python",
   "name": "python3"
  },
  "language_info": {
   "codemirror_mode": {
    "name": "ipython",
    "version": 3
   },
   "file_extension": ".py",
   "mimetype": "text/x-python",
   "name": "python",
   "nbconvert_exporter": "python",
   "pygments_lexer": "ipython3",
   "version": "3.6.2"
  }
 },
 "nbformat": 4,
 "nbformat_minor": 2
}
