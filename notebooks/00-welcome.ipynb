{
 "cells": [
  {
   "cell_type": "markdown",
   "metadata": {},
   "source": [
    "<a href='http://www.holoviews.org'><img src=\"assets/hv+bk.png\" alt=\"HV+BK logos\" width=\"40%;\" align=\"left\"/></a>\n",
    "<div style=\"float:right;\"><h2>00. Welcome, Demos and Setup</h2></div>"
   ]
  },
  {
   "cell_type": "markdown",
   "metadata": {},
   "source": [
    "<img src=\"./assets/tutorial_app.gif\"></img>\n",
    "\n",
    "Welcome to the HoloViews+Bokeh Viz to Dashboards JupyterCon 2017 tutorial!\n",
    "\n",
    "This notebook serves as the homepage of the tutorial, including a table of contents listing each tutorial section, a general overview, links to demos illustrating the range of topics covered, and instructions to check that everything is installed properly."
   ]
  },
  {
   "cell_type": "markdown",
   "metadata": {},
   "source": [
    "## Index and Schedule\n",
    "\n",
    "This 3.5-hour tutorial is broken down into the following sections.  Sections marked \"*(Omit)*\" are available for later self study, but there is not expected to time to present those in detail.\n",
    "\n",
    "- *Overview*\n",
    "\n",
    "   * &nbsp;&nbsp;**5 min** &nbsp;[0 - Welcome](./00-welcome.ipynb): (This notebook!) Welcome, demos, and setup.\n",
    "   * **20 min** &nbsp;[1 - Workflow](./01-workflow-introduction.ipynb): Overview of solving a simple but complete data-science task from exploration to deployment.<br><br>\n",
    "   \n",
    "- *Making data visualizable*\n",
    "   * **30 min** &nbsp;[2 - Annotating your data](./02-introduction-to-elements.ipynb): Using HoloViews Elements to make your data instantly visualizable\n",
    "   * **15 min** &nbsp;*Break*\n",
    "   * **20 min** &nbsp;[3 - Customizing visual appearance](./03-customizing-visual-appearance.ipynb): How to change the appearance and output format of elements.\n",
    "   * **20 min** &nbsp;[4 - Exploration with containers](./04-exploration-with-containers.ipynb): Using HoloViews \"containers\" for quick, easy data exploration.\n",
    "   * *(Omit)* &nbsp;&nbsp;&nbsp;[5 - Working with tabular data](./05-working-with-tabular-data.ipynb): Exploring a tabular (columnar) dataset.\n",
    "   * *(Omit)* &nbsp;&nbsp;&nbsp;[6 - Working with gridded data](./06-working-with-gridded-data.ipynb): Exploring a gridded (n-dimensional) dataset.\n",
    "   * **10 min** &nbsp;*Break*<br><br>\n",
    "   \n",
    "- *Interactive apps and dashboards*\n",
    "\n",
    "   * **25 min** &nbsp;[7 - Custom interactivity](./07-custom-interactivity.ipynb): Using HoloViews \"streams\" to add interactivity to your visualizations.\n",
    "   * **15 min** &nbsp;[8 - Operations and pipelines](./08-operations-and-pipelines.ipynb): Dynamically transforming your data as needed\n",
    "   * &nbsp;&nbsp;**5 min** &nbsp;*Break*\n",
    "   * *(Omit)* &nbsp;&nbsp;&nbsp;[9 - Working with large data](./09-working-with-large-datasets.ipynb): Using datasets too large to feed directly to your browser.\n",
    "   * **15 min** &nbsp;[10 - Parameters and widgets](./10-parameters-and-widgets.ipynb): Declarative custom controls\n",
    "   * **30 min** &nbsp;[11 - Deploying Bokeh Apps](./11-deploying-bokeh-apps.ipynb): Deploying your visualizations using Bokeh server."
   ]
  },
  {
   "cell_type": "markdown",
   "metadata": {},
   "source": [
    "## What is this all about?\n",
    "\n",
    "Data scientists and analysts very often switch between interactively exploring some data themselves, and then creating apps and dashboards for sharing their analyses with others.  The Jupyter notebook environment supports a rich ecosystem of tools for exploratory, interactive visualizations, but these tools are often quite separate from those supporting app deployment. Bridging between these two common activities is thus needlessly difficult.\n",
    "\n",
    "In this tutorial we will be introducing a set of open-source Python libraries we have been developing to streamline the process of working with small and large datasets (from a few points to billions), whether doing exploratory analysis, making simple widget-based tools, or building full-featured dashboards. The libraries in this ecosystem include:\n",
    "\n",
    "* [**HoloViews**](http://holoviews.org): Declarative objects for instantly visualizable data\n",
    "* [**GeoViews**](http://geo.holoviews.org): Easy mix-and-matching of geographic data with custom plots\n",
    "* [**Bokeh**](http://bokeh.pydata.org): Interactive plotting in web browsers, controlled by Python\n",
    "* [**Param**](https://github.com/ioam/param): Declaring user-relevant parameters in domain-specific code\n",
    "* [**Datashader**](https://github.com/bokeh/datashader): Rasterizing huge datasets quickly using Dask and Numba\n",
    "* [**Pandas**](http://pandas.pydata.org): Convenient computation on columnar datasets\n",
    "* [**Xarray**](http://xarray): Convenient computations on multidimensional array datasets\n",
    "* [**Dask**](http://dask.pydata.org): Efficient out-of-core/distributed computation on massive datasets\n",
    "* [**Numba**](http://numba.pydata.org): Accelerated machine code for inner loops\n",
    "* [**Fastparquet**](https://fastparquet.readthedocs.io): Efficient storage for columnar data\n",
    "\n",
    "This tutorial will guide you through the process of using these tools together to build rich, high-performance, scalable, and deployable visualizations, apps, and dashboards.\n",
    "\n",
    "Although this is a long (and yet still incomplete) list, we will show how to coordinate most of them using the high-level declarative interface provided by HoloViews, giving you convenient, concise access to high-performance interactive visualizations from within Jupyter notebooks and deployed apps."
   ]
  },
  {
   "cell_type": "markdown",
   "metadata": {},
   "source": [
    "## Demos\n",
    "\n",
    "To give you an idea what sort of functionality is possible with these tools, check out some of these links:\n",
    "\n",
    "\n",
    "* [Selection stream](http://holoviews.org/reference/apps/bokeh/selection_stream.html)\n",
    "* [Bounds stream](http://holoviews.org/reference/streams/bokeh/BoundsX.html)\n",
    "* [Mandelbrot](http://holoviews.org/gallery/apps/bokeh/mandelbrot.html)\n",
    "* [DynamicMap](http://holoviews.org/reference/containers/bokeh/DynamicMap.html)\n",
    "* [CrossFilter](http://holoviews.org/gallery/apps/bokeh/crossfilter.html)\n",
    "* [Game of Life](http://holoviews.org/gallery/apps/bokeh/game_of_life.html)\n",
    "* [Dragon curve](http://holoviews.org/gallery/demos/bokeh/dragon_curve.html)\n",
    "* [Datashader NYC Taxi](https://anaconda.org/jbednar/nyc_taxi)\n",
    "* [Datashader Graphs](https://anaconda.org/jbednar/edge_bundling)\n",
    "* [Datashader OpenSky](https://anaconda.org/jbednar/opensky)"
   ]
  },
  {
   "cell_type": "markdown",
   "metadata": {},
   "source": [
    "## Related links\n",
    "\n",
    "You will find extensive support material on our website [holoviews.org](http://www.holoviews.org). In particular, you may find these links useful during the tutorial:\n",
    "\n",
    "* [Reference gallery](http://holoviews.org/reference/index.html): Visual reference of all elements and containers, along with some other components\n",
    "* [Getting started guide](http://holoviews.org/getting_started/index.html): Covers some of the same topics as this tutorial, but without exercises\n",
    "\n",
    "## Getting set up\n",
    "\n",
    "Please consult the tutorial repository [README](https://github.com/ioam/jupytercon2017-holoviews-tutorial/blob/master/README.rst) for instructions on setting up your environment. Here is the condensed version of these instructions for unix-based systems (Linux or Mac OS X):\n",
    "\n",
    "```bash\n",
    "$ conda env create -f environment.yml\n",
    "$ source activate hvtutorial\n",
    "$ cd notebooks\n",
    "```\n",
    "\n",
    "If you have any problems with running these instructions, you can conveniently view the full instructions within this notebook by running the following cell:"
   ]
  },
  {
   "cell_type": "code",
   "execution_count": null,
   "metadata": {
    "collapsed": true
   },
   "outputs": [],
   "source": [
    "from IPython.core import page\n",
    "with open('../README.rst', 'r') as f:\n",
    "    page.page(f.read())"
   ]
  },
  {
   "cell_type": "markdown",
   "metadata": {},
   "source": [
    "If you created the environment last week, make sure to ``git pull``, activate the ``hvtutorial`` environment in the ``notebooks`` directory and run:\n",
    "\n",
    "```\n",
    "git pull\n",
    "conda env update -f ../environment.yml\n",
    "```\n",
    "\n",
    "Now you can launch the notebook server:\n",
    "\n",
    "```bash\n",
    "$ jupyter notebook --NotebookApp.iopub_data_rate_limit=100000000\n",
    "```"
   ]
  },
  {
   "cell_type": "markdown",
   "metadata": {},
   "source": [
    "Once the environment is set up, the following cell should print '1.8.3':"
   ]
  },
  {
   "cell_type": "code",
   "execution_count": null,
   "metadata": {
    "collapsed": true
   },
   "outputs": [],
   "source": [
    "import holoviews as hv\n",
    "hv.__version__"
   ]
  },
  {
   "cell_type": "markdown",
   "metadata": {},
   "source": [
    "And you should see the HoloViews, Bokeh, and Matplotlib logos after running the following cell:"
   ]
  },
  {
   "cell_type": "code",
   "execution_count": null,
   "metadata": {
    "collapsed": true
   },
   "outputs": [],
   "source": [
    "hv.extension('bokeh', 'matplotlib')"
   ]
  },
  {
   "cell_type": "markdown",
   "metadata": {},
   "source": [
    "The next cell tests the key imports needed for this tutorial, and if it completes without errors your environment should be ready to go:"
   ]
  },
  {
   "cell_type": "code",
   "execution_count": null,
   "metadata": {
    "collapsed": true
   },
   "outputs": [],
   "source": [
    "import bokeh\n",
    "import matplotlib\n",
    "import pandas\n",
    "import datashader\n",
    "import dask\n",
    "import geoviews"
   ]
  },
  {
   "cell_type": "markdown",
   "metadata": {},
   "source": [
    "Lastly, let's make sure the large taxi dataset is available, which can be obtained as described in the [README](https://github.com/ioam/jupytercon2017-holoviews-tutorial/blob/master/README.rst):"
   ]
  },
  {
   "cell_type": "code",
   "execution_count": null,
   "metadata": {
    "collapsed": true
   },
   "outputs": [],
   "source": [
    "import os\n",
    "if not os.path.isdir('../data/nyc_taxi_hours.parq/'):\n",
    "    print('Taxi dataset not found; please run \"python download_sample_data.py\".')"
   ]
  },
  {
   "cell_type": "markdown",
   "metadata": {},
   "source": [
    "## Recommended configuration"
   ]
  },
  {
   "cell_type": "markdown",
   "metadata": {},
   "source": [
    "The following configuration options are recommended additions to your '~/.holoviews.rc' file as they improve the tutorial experience and will be the default behaviour in future:"
   ]
  },
  {
   "cell_type": "code",
   "execution_count": null,
   "metadata": {
    "collapsed": true
   },
   "outputs": [],
   "source": [
    "lines = \"\"\"\\\n",
    "import holoviews as hv\n",
    "hv.extension.case_sensitive_completion=True\n",
    "hv.Dataset.datatype = ['dataframe']+hv.Dataset.datatype\n",
    "\"\"\""
   ]
  },
  {
   "cell_type": "markdown",
   "metadata": {},
   "source": [
    "If you do not have a holoviews.rc already, simply run the following cell to generate one containing the above lines:"
   ]
  },
  {
   "cell_type": "code",
   "execution_count": null,
   "metadata": {
    "collapsed": true
   },
   "outputs": [],
   "source": [
    "rcpath = os.path.join(os.path.expanduser('~'), '.holoviews.rc')\n",
    "if not os.path.isfile(rcpath):\n",
    "    with open(rcpath, 'w') as f:\n",
    "        f.write(lines)"
   ]
  }
 ],
 "metadata": {
  "kernelspec": {
   "display_name": "Python 3",
   "language": "python",
   "name": "python3"
  },
  "language_info": {
   "codemirror_mode": {
    "name": "ipython",
    "version": 3
   },
   "file_extension": ".py",
   "mimetype": "text/x-python",
   "name": "python",
   "nbconvert_exporter": "python",
   "pygments_lexer": "ipython3",
   "version": "3.6.2"
  }
 },
 "nbformat": 4,
 "nbformat_minor": 2
}
